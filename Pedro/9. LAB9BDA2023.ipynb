{
 "cells": [
  {
   "cell_type": "markdown",
   "id": "77391537",
   "metadata": {},
   "source": [
    "<h1>Project Dataset: Visualization</h1>\n",
    "\n",
    "In this lab we explore your project dataset. You should perform a variety of visualizations, using Python as well as Tableau. Also, you should reflect on the pros and cons of different visualization choices for your dataset.\n",
    "<hr>\n",
    "This will be important for your final project, where you should perform several visualizations, and reflect on why you chose these particular visualizations, relating this to principles of visualization discussed in class.\n",
    "\n",
    "<hr>\n"
   ]
  },
  {
   "cell_type": "code",
   "execution_count": 2,
   "id": "8e923695",
   "metadata": {},
   "outputs": [],
   "source": [
    "import pandas as pd\n",
    "import matplotlib.pyplot as plt\n",
    "%matplotlib inline"
   ]
  },
  {
   "cell_type": "markdown",
   "id": "5f51bf30",
   "metadata": {},
   "source": [
    "<h2>Read Project Dataset</h2>\n",
    "You read your project dataset into a dataframe. (You may have multiple datasets you are working with, in which case you should either perform the visualizations on each dataset, or choose the most appropriate dataset. In any case, explain your choices."
   ]
  },
  {
   "cell_type": "code",
   "execution_count": null,
   "id": "1d3f8d61",
   "metadata": {},
   "outputs": [],
   "source": []
  },
  {
   "cell_type": "markdown",
   "id": "e880572d",
   "metadata": {},
   "source": [
    "\n",
    "<h1>Q1. Feature Correlations</h1>\n",
    "\n",
    "Display feature correlations in your dataset, both in tabular form and a heatmap. Are there interesting subsets of your data to focus on? If so, display correlations for those subsets, and explain why they are of interest."
   ]
  },
  {
   "cell_type": "code",
   "execution_count": null,
   "id": "2558be41",
   "metadata": {},
   "outputs": [],
   "source": []
  },
  {
   "cell_type": "markdown",
   "id": "2e4b4b8c",
   "metadata": {},
   "source": [
    "<h1>Q2. Line Plots</h1>\n",
    "In the previous lab, we displayed line plots of co2 emissions over time. Is there a similar interesting relationship in your data? Produce a line plot or plots, and explain why it's interesting.\n"
   ]
  },
  {
   "cell_type": "code",
   "execution_count": null,
   "id": "4227873a",
   "metadata": {},
   "outputs": [],
   "source": []
  },
  {
   "cell_type": "markdown",
   "id": "15eb87da",
   "metadata": {},
   "source": [
    "<h1>Q3. Line Plots, II</h1>\n",
    "In the previous lab, we looked at the ratio of co2 emissions to the size of the economy, and plotted this over time. Can you find something similar in your data, where you plot the ratio of two features to another feature?\n",
    "Produce such a plot, and explain why this may or may not be interesting for your data.\n"
   ]
  },
  {
   "cell_type": "code",
   "execution_count": null,
   "id": "aed3460c",
   "metadata": {},
   "outputs": [],
   "source": []
  },
  {
   "cell_type": "markdown",
   "id": "c7ffb899",
   "metadata": {},
   "source": [
    "<h1>Q4. Pie Chart</h1>\n",
    "Pick a feature of interest in your data, and use a pie chart to show the size of relative values. Reflect on pros and cons of this visualization for your case. "
   ]
  },
  {
   "cell_type": "code",
   "execution_count": null,
   "id": "e78f1304",
   "metadata": {},
   "outputs": [],
   "source": [
    "\n"
   ]
  },
  {
   "cell_type": "markdown",
   "id": "75174dd7",
   "metadata": {},
   "source": [
    "<h1>Q5. Tableau</h1>\n",
    "Use Tableau to read your dataset. With the Tableau session (from Lab 7) as inspiration, perform several analyses and visualizations of your data. For each visualization, reflect on its appropriateness for your data, relating to principles of visualization discussed in class."
   ]
  },
  {
   "cell_type": "code",
   "execution_count": null,
   "id": "469c62c2",
   "metadata": {},
   "outputs": [],
   "source": []
  }
 ],
 "metadata": {
  "kernelspec": {
   "display_name": "Python 3 (ipykernel)",
   "language": "python",
   "name": "python3"
  },
  "language_info": {
   "codemirror_mode": {
    "name": "ipython",
    "version": 3
   },
   "file_extension": ".py",
   "mimetype": "text/x-python",
   "name": "python",
   "nbconvert_exporter": "python",
   "pygments_lexer": "ipython3",
   "version": "3.9.12"
  }
 },
 "nbformat": 4,
 "nbformat_minor": 5
}
